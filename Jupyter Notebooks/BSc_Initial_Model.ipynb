{
  "cells": [
    {
      "cell_type": "code",
      "execution_count": 3,
      "metadata": {
        "colab": {
          "base_uri": "https://localhost:8080/"
        },
        "id": "PZiYMhoso0oY",
        "outputId": "35e3c67e-0840-4ec5-b99e-89cd7fdf3218"
      },
      "outputs": [
        {
          "name": "stdout",
          "output_type": "stream",
          "text": [
            "Defaulting to user installation because normal site-packages is not writeable\n",
            "Requirement already satisfied: ptflops in c:\\users\\jonnau\\appdata\\roaming\\python\\python311\\site-packages (0.7.2.2)\n",
            "Requirement already satisfied: torch in c:\\users\\jonnau\\appdata\\roaming\\python\\python311\\site-packages (from ptflops) (2.2.0+cu118)\n",
            "Requirement already satisfied: filelock in c:\\users\\jonnau\\appdata\\roaming\\python\\python311\\site-packages (from torch->ptflops) (3.13.1)\n",
            "Requirement already satisfied: typing-extensions>=4.8.0 in c:\\users\\jonnau\\appdata\\roaming\\python\\python311\\site-packages (from torch->ptflops) (4.9.0)\n",
            "Requirement already satisfied: sympy in c:\\users\\jonnau\\appdata\\roaming\\python\\python311\\site-packages (from torch->ptflops) (1.12)\n",
            "Requirement already satisfied: networkx in c:\\users\\jonnau\\appdata\\roaming\\python\\python311\\site-packages (from torch->ptflops) (3.2.1)\n",
            "Requirement already satisfied: jinja2 in c:\\users\\jonnau\\appdata\\roaming\\python\\python311\\site-packages (from torch->ptflops) (3.1.3)\n",
            "Requirement already satisfied: fsspec in c:\\users\\jonnau\\appdata\\roaming\\python\\python311\\site-packages (from torch->ptflops) (2024.2.0)\n",
            "Requirement already satisfied: MarkupSafe>=2.0 in c:\\users\\jonnau\\appdata\\roaming\\python\\python311\\site-packages (from jinja2->torch->ptflops) (2.1.5)\n",
            "Requirement already satisfied: mpmath>=0.19 in c:\\users\\jonnau\\appdata\\roaming\\python\\python311\\site-packages (from sympy->torch->ptflops) (1.3.0)\n",
            "Note: you may need to restart the kernel to use updated packages.\n"
          ]
        },
        {
          "name": "stderr",
          "output_type": "stream",
          "text": [
            "\n",
            "[notice] A new release of pip is available: 23.2.1 -> 24.0\n",
            "[notice] To update, run: python.exe -m pip install --upgrade pip\n"
          ]
        }
      ],
      "source": [
        "%pip install ptflops"
      ]
    },
    {
      "cell_type": "code",
      "execution_count": 4,
      "metadata": {},
      "outputs": [
        {
          "name": "stdout",
          "output_type": "stream",
          "text": [
            "Defaulting to user installation because normal site-packages is not writeableNote: you may need to restart the kernel to use updated packages.\n"
          ]
        },
        {
          "name": "stderr",
          "output_type": "stream",
          "text": [
            "\n",
            "[notice] A new release of pip is available: 23.2.1 -> 24.0\n",
            "[notice] To update, run: python.exe -m pip install --upgrade pip\n"
          ]
        },
        {
          "name": "stdout",
          "output_type": "stream",
          "text": [
            "\n",
            "Requirement already satisfied: cuda-python in c:\\users\\jonnau\\appdata\\roaming\\python\\python311\\site-packages (12.3.0)\n"
          ]
        }
      ],
      "source": [
        "#%pip install torch\n",
        "#%pip install torchvision\n",
        "# compile pytorch with cuda support\n",
        "#%pip install torch torchvision torchaudio cudatoolkit=11.1 -f https://download.pytorch.org/whl/cu111/torch_stable.html\n",
        "%pip install cuda-python\n",
        "#%pip install torch torchvision torchaudio --index-url https://download.pytorch.org/whl/cu118"
      ]
    },
    {
      "cell_type": "code",
      "execution_count": 5,
      "metadata": {
        "id": "gU7a9WmSGQyi"
      },
      "outputs": [],
      "source": [
        "import torch\n",
        "import torchvision\n",
        "import torchvision.transforms as transforms\n",
        "import torch.nn as nn\n",
        "import torch.optim as optim\n",
        "import torchvision.models as models\n",
        "from ptflops import get_model_complexity_info"
      ]
    },
    {
      "cell_type": "code",
      "execution_count": 20,
      "metadata": {
        "colab": {
          "base_uri": "https://localhost:8080/"
        },
        "id": "n7vWJTbiHFLh",
        "outputId": "74a2af62-838d-4f69-849a-610dc92cdb53"
      },
      "outputs": [
        {
          "name": "stdout",
          "output_type": "stream",
          "text": [
            "Files already downloaded and verified\n",
            "Files already downloaded and verified\n"
          ]
        }
      ],
      "source": [
        "# Step 1: Dataset Preparation\n",
        "transform = transforms.Compose([\n",
        "    transforms.ToTensor(),\n",
        "    transforms.Normalize((0.5, 0.5, 0.5), (0.5, 0.5, 0.5))\n",
        "])\n",
        "device = torch.device(\"cuda:0\" if torch.cuda.is_available() else \"cpu\")\n",
        "\n",
        "trainset = torchvision.datasets.CIFAR100(root='./data', train=True, download=True, transform=transform)\n",
        "trainloader = torch.utils.data.DataLoader(trainset, batch_size=20, shuffle=True, num_workers=0)\n",
        "#does the tensor have CUDA enabled?\n",
        "\n",
        "testset = torchvision.datasets.CIFAR100(root='./data', train=False, download=True, transform=transform)\n",
        "testloader = torch.utils.data.DataLoader(testset, batch_size=20, shuffle=False, num_workers=0)"
      ]
    },
    {
      "cell_type": "code",
      "execution_count": 26,
      "metadata": {
        "id": "LQXs8wg-HHzW"
      },
      "outputs": [],
      "source": [
        "# Step 2: Model Architecture\n",
        "class CNN(nn.Module):\n",
        "    def __init__(self):\n",
        "        super(CNN, self).__init__()\n",
        "        # TODO ändra lager\n",
        "        self.conv1 = nn.Conv2d(3, 16, 3, padding=1)\n",
        "        self.pool = nn.MaxPool2d(2, 2)\n",
        "        self.conv2 = nn.Conv2d(16, 32, 3, padding=1)\n",
        "        self.conv3 = nn.Conv2d(32, 64, 3, padding=1)\n",
        "        self.fc1 = nn.Linear(64 * 4 * 4, 500)\n",
        "        self.fc2 = nn.Linear(500, 100)\n",
        "\n",
        "\n",
        "    def forward(self, x):\n",
        "        F = torch.nn.functional\n",
        "        x = self.pool(F.relu(self.conv1(x)))\n",
        "        x = self.pool(F.relu(self.conv2(x)))\n",
        "        x = self.pool(F.relu(self.conv3(x)))\n",
        "        x = x.view(-1, 64 * 4 * 4)\n",
        "        x = F.relu(self.fc1(x))\n",
        "        x = self.fc2(x)\n",
        "        return x\n",
        "\n",
        "net = CNN()\n",
        "\n",
        "if torch.cuda.is_available():\n",
        "    net.to(device)\n",
        "    net.cuda()"
      ]
    },
    {
      "cell_type": "code",
      "execution_count": 27,
      "metadata": {
        "colab": {
          "base_uri": "https://localhost:8080/"
        },
        "id": "IX6MZjycp396",
        "outputId": "13aadc55-0d37-4761-9a4c-ffffb5ce9ecc"
      },
      "outputs": [
        {
          "name": "stdout",
          "output_type": "stream",
          "text": [
            "Warning: module CNN is treated as a zero-op.\n",
            "CNN(\n",
            "  586.18 k, 100.000% Params, 3.42 MMac, 98.338% MACs, \n",
            "  (conv1): Conv2d(448, 0.076% Params, 458.75 KMac, 13.185% MACs, 3, 16, kernel_size=(3, 3), stride=(1, 1), padding=(1, 1))\n",
            "  (pool): MaxPool2d(0, 0.000% Params, 28.67 KMac, 0.824% MACs, kernel_size=2, stride=2, padding=0, dilation=1, ceil_mode=False)\n",
            "  (conv2): Conv2d(4.64 k, 0.792% Params, 1.19 MMac, 34.139% MACs, 16, 32, kernel_size=(3, 3), stride=(1, 1), padding=(1, 1))\n",
            "  (conv3): Conv2d(18.5 k, 3.155% Params, 1.18 MMac, 34.021% MACs, 32, 64, kernel_size=(3, 3), stride=(1, 1), padding=(1, 1))\n",
            "  (fc1): Linear(512.5 k, 87.430% Params, 512.5 KMac, 14.729% MACs, in_features=1024, out_features=500, bias=True)\n",
            "  (fc2): Linear(50.1 k, 8.547% Params, 50.1 KMac, 1.440% MACs, in_features=500, out_features=100, bias=True)\n",
            ")\n",
            "Computational complexity:       3.48 MMac\n",
            "Number of parameters:           586.18 k\n"
          ]
        }
      ],
      "source": [
        "with torch.cuda.device(0):\n",
        "  macs, params = get_model_complexity_info(net, (3, 32, 32), as_strings=True,\n",
        "                                           print_per_layer_stat=True, verbose=True, backend='pytorch')\n",
        "  print('{:<30}  {:<8}'.format('Computational complexity: ', macs))\n",
        "  print('{:<30}  {:<8}'.format('Number of parameters: ', params))"
      ]
    },
    {
      "cell_type": "code",
      "execution_count": 28,
      "metadata": {
        "colab": {
          "base_uri": "https://localhost:8080/"
        },
        "id": "1VUjDpadLJBt",
        "outputId": "22c9f70d-afef-4722-df91-bea150162990"
      },
      "outputs": [
        {
          "name": "stdout",
          "output_type": "stream",
          "text": [
            "We be using CUDA\n"
          ]
        },
        {
          "data": {
            "text/plain": [
              "CNN(\n",
              "  (conv1): Conv2d(3, 16, kernel_size=(3, 3), stride=(1, 1), padding=(1, 1))\n",
              "  (pool): MaxPool2d(kernel_size=2, stride=2, padding=0, dilation=1, ceil_mode=False)\n",
              "  (conv2): Conv2d(16, 32, kernel_size=(3, 3), stride=(1, 1), padding=(1, 1))\n",
              "  (conv3): Conv2d(32, 64, kernel_size=(3, 3), stride=(1, 1), padding=(1, 1))\n",
              "  (fc1): Linear(in_features=1024, out_features=500, bias=True)\n",
              "  (fc2): Linear(in_features=500, out_features=100, bias=True)\n",
              ")"
            ]
          },
          "execution_count": 28,
          "metadata": {},
          "output_type": "execute_result"
        }
      ],
      "source": [
        "if torch.cuda.is_available():\n",
        "  print (\"We be using CUDA\")\n",
        "else:\n",
        "  print (\"We be using CPU\")\n",
        "\n",
        "device = torch.device(\"cuda\" if torch.cuda.is_available() else \"cpu\")\n",
        "net.to(device)"
      ]
    },
    {
      "cell_type": "code",
      "execution_count": 36,
      "metadata": {
        "colab": {
          "base_uri": "https://localhost:8080/"
        },
        "id": "quX80o9CHKwV",
        "outputId": "3471509a-85ba-4c8a-9a93-54fe4247b174"
      },
      "outputs": [
        {
          "name": "stdout",
          "output_type": "stream",
          "text": [
            "[1,  2000] loss: 0.671\n",
            "[2,  2000] loss: 0.574\n",
            "[3,  2000] loss: 0.536\n",
            "[4,  2000] loss: 0.495\n",
            "[5,  2000] loss: 0.456\n",
            "[6,  2000] loss: 0.427\n",
            "[7,  2000] loss: 0.408\n",
            "[8,  2000] loss: 0.381\n",
            "[9,  2000] loss: 0.366\n",
            "[10,  2000] loss: 0.370\n",
            "[11,  2000] loss: 0.350\n",
            "[12,  2000] loss: 0.343\n",
            "[13,  2000] loss: 0.324\n",
            "[14,  2000] loss: 0.322\n",
            "[15,  2000] loss: 0.316\n",
            "[16,  2000] loss: 0.310\n",
            "[17,  2000] loss: 0.306\n",
            "[18,  2000] loss: 0.302\n",
            "[19,  2000] loss: 0.291\n",
            "[20,  2000] loss: 0.287\n",
            "Finished Training\n"
          ]
        }
      ],
      "source": [
        "# Step 3: Training\n",
        "criterion = nn.CrossEntropyLoss()\n",
        "optimizer = optim.Adam(net.parameters(), lr=0.001)\n",
        "\n",
        "net.train()\n",
        "\n",
        "for epoch in range(20):  # Loop over the dataset multiple times\n",
        "# TODO ändra epoker\n",
        "    running_loss = 0.0\n",
        "    for i, data in enumerate(trainloader, 0):\n",
        "        inputs, labels = data[0].to(device), data[1].to(device)\n",
        "\n",
        "        optimizer.zero_grad()\n",
        "\n",
        "        outputs = net(inputs)\n",
        "        loss = criterion(outputs, labels)\n",
        "        loss.backward()\n",
        "        optimizer.step()\n",
        "\n",
        "        running_loss += loss.item()\n",
        "        if i % 2000 == 1999:  # Print every 2000 mini-batches\n",
        "            print('[%d, %5d] loss: %.3f' %\n",
        "                  (epoch + 1, i + 1, running_loss / 2000))\n",
        "            running_loss = 0.0\n",
        "\n",
        "print('Finished Training')"
      ]
    },
    {
      "cell_type": "code",
      "execution_count": null,
      "metadata": {
        "id": "38VuB2eZRpSq"
      },
      "outputs": [],
      "source": []
    },
    {
      "cell_type": "code",
      "execution_count": 37,
      "metadata": {
        "colab": {
          "base_uri": "https://localhost:8080/"
        },
        "id": "x1KOne3-Q36L",
        "outputId": "1333ab0b-962a-42c5-da73-cc59afc20821"
      },
      "outputs": [
        {
          "name": "stdout",
          "output_type": "stream",
          "text": [
            "Accuracy of the network on the 10000 test images: 33 %\n"
          ]
        }
      ],
      "source": [
        "# Step 4: Testing\n",
        "correct = 0\n",
        "total = 0\n",
        "\n",
        "net.eval()\n",
        "\n",
        "with torch.no_grad():\n",
        "    for data in testloader:\n",
        "        images, labels = data[0].to(device), data[1].to(device)\n",
        "        if torch.cuda.is_available():\n",
        "            images, labels = images.cuda(), labels.cuda()\n",
        "        outputs = net(images)\n",
        "        _, predicted = torch.max(outputs.data, 1)\n",
        "        total += labels.size(0)\n",
        "        correct += (predicted == labels).sum().item()\n",
        "\n",
        "print('Accuracy of the network on the 10000 test images: %d %%' % (\n",
        "    100 * correct / total))"
      ]
    }
  ],
  "metadata": {
    "accelerator": "GPU",
    "colab": {
      "gpuType": "T4",
      "provenance": []
    },
    "kernelspec": {
      "display_name": "Python 3",
      "name": "python3"
    },
    "language_info": {
      "codemirror_mode": {
        "name": "ipython",
        "version": 3
      },
      "file_extension": ".py",
      "mimetype": "text/x-python",
      "name": "python",
      "nbconvert_exporter": "python",
      "pygments_lexer": "ipython3",
      "version": "3.11.3"
    }
  },
  "nbformat": 4,
  "nbformat_minor": 0
}
